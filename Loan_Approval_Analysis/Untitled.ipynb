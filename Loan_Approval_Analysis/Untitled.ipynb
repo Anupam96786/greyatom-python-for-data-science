{
 "cells": [
  {
   "cell_type": "code",
   "execution_count": 1,
   "metadata": {},
   "outputs": [],
   "source": [
    "import pandas as pd\n",
    "import numpy as np"
   ]
  },
  {
   "cell_type": "code",
   "execution_count": 2,
   "metadata": {},
   "outputs": [
    {
     "name": "stdout",
     "output_type": "stream",
     "text": [
      "      Loan_ID  Gender Married Dependents  ... Loan_Amount_Term Credit_History  Property_Area  Loan_Status\n",
      "0    LP001002    Male      No          0  ...            360.0            1.0          Urban            Y\n",
      "1    LP001003    Male     Yes          1  ...            360.0            1.0          Rural            N\n",
      "2    LP001005    Male     Yes          0  ...            360.0            1.0          Urban            Y\n",
      "3    LP001006    Male     Yes          0  ...            360.0            1.0          Urban            Y\n",
      "4    LP001008    Male      No          0  ...            360.0            1.0          Urban            Y\n",
      "..        ...     ...     ...        ...  ...              ...            ...            ...          ...\n",
      "609  LP002978  Female      No          0  ...            360.0            1.0          Rural            Y\n",
      "610  LP002979    Male     Yes         3+  ...            180.0            1.0          Rural            Y\n",
      "611  LP002983    Male     Yes          1  ...            360.0            1.0          Urban            Y\n",
      "612  LP002984    Male     Yes          2  ...            360.0            1.0          Urban            Y\n",
      "613  LP002990  Female      No          0  ...            360.0            0.0      Semiurban            N\n",
      "\n",
      "[614 rows x 13 columns]\n"
     ]
    }
   ],
   "source": [
    "bank_data = pd.read_csv('loan_approval.csv')\n",
    "bank = pd.DataFrame(bank_data)\n",
    "print(bank)"
   ]
  },
  {
   "cell_type": "code",
   "execution_count": 3,
   "metadata": {},
   "outputs": [],
   "source": [
    "categorical_var = bank.select_dtypes(include='object')\n",
    "numerical_var = bank.select_dtypes(include='number')"
   ]
  },
  {
   "cell_type": "code",
   "execution_count": 4,
   "metadata": {},
   "outputs": [
    {
     "name": "stdout",
     "output_type": "stream",
     "text": [
      "     Gender Married Dependents     Education  ... Loan_Amount_Term  Credit_History  Property_Area  Loan_Status\n",
      "0      Male      No          0      Graduate  ...            360.0             1.0          Urban            Y\n",
      "1      Male     Yes          1      Graduate  ...            360.0             1.0          Rural            N\n",
      "2      Male     Yes          0      Graduate  ...            360.0             1.0          Urban            Y\n",
      "3      Male     Yes          0  Not Graduate  ...            360.0             1.0          Urban            Y\n",
      "4      Male      No          0      Graduate  ...            360.0             1.0          Urban            Y\n",
      "..      ...     ...        ...           ...  ...              ...             ...            ...          ...\n",
      "609  Female      No          0      Graduate  ...            360.0             1.0          Rural            Y\n",
      "610    Male     Yes         3+      Graduate  ...            180.0             1.0          Rural            Y\n",
      "611    Male     Yes          1      Graduate  ...            360.0             1.0          Urban            Y\n",
      "612    Male     Yes          2      Graduate  ...            360.0             1.0          Urban            Y\n",
      "613  Female      No          0      Graduate  ...            360.0             0.0      Semiurban            N\n",
      "\n",
      "[614 rows x 12 columns]\n"
     ]
    }
   ],
   "source": [
    "banks = bank.drop(columns='Loan_ID')\n",
    "print(banks)"
   ]
  },
  {
   "cell_type": "code",
   "execution_count": 5,
   "metadata": {},
   "outputs": [
    {
     "name": "stdout",
     "output_type": "stream",
     "text": [
      "Gender                    Male\n",
      "Married                    Yes\n",
      "Dependents                   0\n",
      "Education             Graduate\n",
      "Self_Employed               No\n",
      "ApplicantIncome           2500\n",
      "CoapplicantIncome            0\n",
      "LoanAmount                 120\n",
      "Loan_Amount_Term           360\n",
      "Credit_History               1\n",
      "Property_Area        Semiurban\n",
      "Loan_Status                  Y\n",
      "Name: 0, dtype: object\n"
     ]
    }
   ],
   "source": [
    "bank_mode = banks.mode().iloc[0]\n",
    "print(bank_mode)\n",
    "banks.fillna(bank_mode, inplace=True)"
   ]
  },
  {
   "cell_type": "code",
   "execution_count": 6,
   "metadata": {},
   "outputs": [
    {
     "name": "stdout",
     "output_type": "stream",
     "text": [
      "Gender               0\n",
      "Married              0\n",
      "Dependents           0\n",
      "Education            0\n",
      "Self_Employed        0\n",
      "ApplicantIncome      0\n",
      "CoapplicantIncome    0\n",
      "LoanAmount           0\n",
      "Loan_Amount_Term     0\n",
      "Credit_History       0\n",
      "Property_Area        0\n",
      "Loan_Status          0\n",
      "dtype: int64\n"
     ]
    }
   ],
   "source": [
    "print(banks.isnull().sum())"
   ]
  },
  {
   "cell_type": "code",
   "execution_count": 7,
   "metadata": {},
   "outputs": [
    {
     "name": "stdout",
     "output_type": "stream",
     "text": [
      "                              LoanAmount\n",
      "Gender Married Self_Employed            \n",
      "Female No      No             114.768116\n",
      "               Yes            125.272727\n",
      "       Yes     No             133.714286\n",
      "               Yes            282.250000\n",
      "Male   No      No             129.508621\n",
      "               Yes            180.588235\n",
      "       Yes     No             152.608150\n",
      "               Yes            167.420000\n"
     ]
    }
   ],
   "source": [
    "avg_loan_amount = banks.pivot_table(index=['Gender', 'Married', 'Self_Employed'], values='LoanAmount', aggfunc=np.mean)\n",
    "print(avg_loan_amount)"
   ]
  },
  {
   "cell_type": "code",
   "execution_count": 8,
   "metadata": {},
   "outputs": [
    {
     "name": "stdout",
     "output_type": "stream",
     "text": [
      "9.120521172638437\n",
      "59.60912052117264\n"
     ]
    }
   ],
   "source": [
    "loan_approved_se = banks[(banks['Self_Employed'] == 'Yes') & (banks['Loan_Status'] == 'Y')]\n",
    "loan_approved_nse = banks[(banks['Self_Employed'] == 'No') & (banks['Loan_Status'] == 'Y')]\n",
    "percentage_se = len(loan_approved_se.index)/614*100\n",
    "percentage_nse = len(loan_approved_nse.index)/614*100\n",
    "print(percentage_se)\n",
    "print(percentage_nse)"
   ]
  },
  {
   "cell_type": "code",
   "execution_count": 9,
   "metadata": {},
   "outputs": [
    {
     "name": "stdout",
     "output_type": "stream",
     "text": [
      "     Loan_Amount_Term\n",
      "0                30.0\n",
      "1                30.0\n",
      "2                30.0\n",
      "3                30.0\n",
      "4                30.0\n",
      "..                ...\n",
      "609              30.0\n",
      "610              15.0\n",
      "611              30.0\n",
      "612              30.0\n",
      "613              30.0\n",
      "\n",
      "[614 rows x 1 columns]\n"
     ]
    }
   ],
   "source": [
    "loan_term = banks[['Loan_Amount_Term']].apply(lambda x: x/12)\n",
    "print(loan_term)"
   ]
  },
  {
   "cell_type": "code",
   "execution_count": 10,
   "metadata": {},
   "outputs": [
    {
     "name": "stdout",
     "output_type": "stream",
     "text": [
      "554\n"
     ]
    }
   ],
   "source": [
    "big_loan_term = len(loan_term[loan_term['Loan_Amount_Term'] >= 25].index)\n",
    "print(big_loan_term)"
   ]
  },
  {
   "cell_type": "code",
   "execution_count": 11,
   "metadata": {},
   "outputs": [
    {
     "name": "stdout",
     "output_type": "stream",
     "text": [
      "            ApplicantIncome                                                   ... Credit_History                         \n",
      "                      count         mean          std    min     25%     50%  ...            std  min  25%  50%  75%  max\n",
      "Loan_Status                                                                   ...                                        \n",
      "N                     192.0  5446.078125  6819.558528  150.0  2885.0  3833.5  ...       0.495948  0.0  0.0  1.0  1.0  1.0\n",
      "Y                     422.0  5384.068720  5765.441615  210.0  2877.5  3812.5  ...       0.127872  0.0  1.0  1.0  1.0  1.0\n",
      "\n",
      "[2 rows x 16 columns]\n"
     ]
    }
   ],
   "source": [
    "loan_groupby = banks.groupby('Loan_Status')\n",
    "loan_groupby = loan_groupby[['ApplicantIncome', 'Credit_History']]\n",
    "print(loan_groupby.describe())"
   ]
  },
  {
   "cell_type": "code",
   "execution_count": 12,
   "metadata": {},
   "outputs": [
    {
     "name": "stdout",
     "output_type": "stream",
     "text": [
      "             ApplicantIncome  Credit_History\n",
      "Loan_Status                                 \n",
      "N                5446.078125        0.572917\n",
      "Y                5384.068720        0.983412\n"
     ]
    }
   ],
   "source": [
    "mean_values = loan_groupby.mean()\n",
    "print(mean_values)"
   ]
  }
 ],
 "metadata": {
  "kernelspec": {
   "display_name": "Python 3",
   "language": "python",
   "name": "python3"
  },
  "language_info": {
   "codemirror_mode": {
    "name": "ipython",
    "version": 3
   },
   "file_extension": ".py",
   "mimetype": "text/x-python",
   "name": "python",
   "nbconvert_exporter": "python",
   "pygments_lexer": "ipython3",
   "version": "3.7.7"
  }
 },
 "nbformat": 4,
 "nbformat_minor": 4
}
